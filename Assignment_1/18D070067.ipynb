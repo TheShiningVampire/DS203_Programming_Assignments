{
  "nbformat": 4,
  "nbformat_minor": 2,
  "metadata": {
    "colab": {
      "name": "Untitled14.ipynb",
      "provenance": [],
      "collapsed_sections": []
    },
    "kernelspec": {
      "name": "python3",
      "display_name": "Python 3.8.8 64-bit ('base': conda)"
    },
    "language_info": {
      "name": "python",
      "version": "3.8.8",
      "mimetype": "text/x-python",
      "codemirror_mode": {
        "name": "ipython",
        "version": 3
      },
      "pygments_lexer": "ipython3",
      "nbconvert_exporter": "python",
      "file_extension": ".py"
    },
    "interpreter": {
      "hash": "c12c9a3ab46614ebb53a25bfb0e0365553fe12c26a768f893745d73ed1857dda"
    }
  },
  "cells": [
    {
      "cell_type": "markdown",
      "source": [
        "<center><b><H1> DS 203: Assignment 4 </H1></b></center>\r\n",
        "<center><b><H2> Vinit Awale </H1></b></center>\r\n",
        "<center><b><H2> 18D070067 </H1></b></center>"
      ],
      "metadata": {
        "id": "AlSuVvYtN_Tq"
      }
    },
    {
      "cell_type": "markdown",
      "source": [
        "<b><i><H3> Question 1: </H3></i></b>\r\n",
        "Download, read, and display the data at the following URLs in in python using Google CoLab and pandas, and print the type of each variable. Comment on the difference between python data types (float, int, object\r\n",
        "etc.) and the data types taught in class (categorical/nominal, ordinal, numerical (integer, quantized,\r\n",
        "continuous) etc.). "
      ],
      "metadata": {
        "id": "9PU-wt8wO7k9"
      }
    },
    {
      "cell_type": "markdown",
      "source": [
        "1. <href>https://data.gov.in/resources/quarterly-range-wise-performance-public-facilities-operation-minor-no-or-local-937</href>\r\n",
        "2. <href>https://finance.yahoo.com/quote/LLY/history?p=LLY </href>\r\n",
        "3. <href> https://archive.ics.uci.edu/ml/datasets/Amphibians </href>\r\n",
        " "
      ],
      "metadata": {
        "id": "qIistNxKPF_1"
      }
    },
    {
      "cell_type": "markdown",
      "source": [
        "I have downloaded these datasets and saved them with the following names:\r\n",
        "1. operation_minor.csv\r\n",
        "2. LLY.csv\r\n",
        "3. dataset.csv"
      ],
      "metadata": {
        "id": "kKu82f2IPrPJ"
      }
    },
    {
      "cell_type": "markdown",
      "source": [
        "### UPLOADING DATASET"
      ],
      "metadata": {
        "id": "LKXJOIgJhBNm"
      }
    },
    {
      "cell_type": "code",
      "execution_count": 1,
      "source": [
        "from google.colab import files\r\n",
        "uploaded = files.upload()"
      ],
      "outputs": [
        {
          "output_type": "display_data",
          "data": {
            "text/html": [
              "\n",
              "     <input type=\"file\" id=\"files-0b7e40f4-18ab-4220-a8a2-0b023c97c72f\" name=\"files[]\" multiple disabled\n",
              "        style=\"border:none\" />\n",
              "     <output id=\"result-0b7e40f4-18ab-4220-a8a2-0b023c97c72f\">\n",
              "      Upload widget is only available when the cell has been executed in the\n",
              "      current browser session. Please rerun this cell to enable.\n",
              "      </output>\n",
              "      <script src=\"/nbextensions/google.colab/files.js\"></script> "
            ],
            "text/plain": [
              "<IPython.core.display.HTML object>"
            ]
          },
          "metadata": {}
        },
        {
          "output_type": "stream",
          "name": "stdout",
          "text": [
            "Saving dataset.csv to dataset.csv\n",
            "Saving LLY.csv to LLY.csv\n",
            "Saving operation_minor.csv to operation_minor.csv\n"
          ]
        }
      ],
      "metadata": {
        "colab": {
          "resources": {
            "http://localhost:8080/nbextensions/google.colab/files.js": {
              "data": "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",
              "ok": true,
              "headers": [
                [
                  "content-type",
                  "application/javascript"
                ]
              ],
              "status": 200,
              "status_text": ""
            }
          },
          "base_uri": "https://localhost:8080/",
          "height": 140
        },
        "id": "njUetyVzg7B7",
        "outputId": "46ede6ab-0c2f-4957-ba25-f0c788cb41e0"
      }
    },
    {
      "cell_type": "markdown",
      "source": [
        "Now, we have uploaded the datasets to our google colab."
      ],
      "metadata": {
        "id": "PKgyf4SHhV7X"
      }
    },
    {
      "cell_type": "markdown",
      "source": [
        "### IMPORTS"
      ],
      "metadata": {}
    },
    {
      "cell_type": "code",
      "execution_count": 1,
      "source": [
        "import numpy as np\r\n",
        "import pandas as pd"
      ],
      "outputs": [],
      "metadata": {}
    },
    {
      "cell_type": "markdown",
      "source": [
        "<center><H3><b>DATASET 1: OPERATION MINOR</b></H3></center>"
      ],
      "metadata": {}
    },
    {
      "cell_type": "markdown",
      "source": [
        "### READING DATASET"
      ],
      "metadata": {}
    },
    {
      "cell_type": "code",
      "execution_count": 2,
      "source": [
        "dataset_1 = pd.read_csv('operation_minor.csv')"
      ],
      "outputs": [],
      "metadata": {}
    },
    {
      "cell_type": "markdown",
      "source": [
        "### DISPLAYING DATASET"
      ],
      "metadata": {}
    },
    {
      "cell_type": "code",
      "execution_count": 4,
      "source": [
        "dataset_1.head()"
      ],
      "outputs": [
        {
          "output_type": "execute_result",
          "data": {
            "text/html": [
              "<div>\n",
              "<style scoped>\n",
              "    .dataframe tbody tr th:only-of-type {\n",
              "        vertical-align: middle;\n",
              "    }\n",
              "\n",
              "    .dataframe tbody tr th {\n",
              "        vertical-align: top;\n",
              "    }\n",
              "\n",
              "    .dataframe thead th {\n",
              "        text-align: right;\n",
              "    }\n",
              "</style>\n",
              "<table border=\"1\" class=\"dataframe\">\n",
              "  <thead>\n",
              "    <tr style=\"text-align: right;\">\n",
              "      <th></th>\n",
              "      <th>District</th>\n",
              "      <th>Facility Type</th>\n",
              "      <th>Total No. of Facilities #</th>\n",
              "      <th>No. of facilities reporting nil performance *</th>\n",
              "      <th>Performance - Overall Average **</th>\n",
              "      <th>Performance - Maximum</th>\n",
              "      <th>Performance - Minimum</th>\n",
              "      <th>No. of facilities by performance - 1 to 30</th>\n",
              "      <th>No. of facilities by performance - 31 to 150</th>\n",
              "      <th>No. of facilities by performance - 151 to 300</th>\n",
              "      <th>No. of facilities by performance - &gt;300</th>\n",
              "    </tr>\n",
              "  </thead>\n",
              "  <tbody>\n",
              "    <tr>\n",
              "      <th>0</th>\n",
              "      <td>Alipurduar</td>\n",
              "      <td>DH</td>\n",
              "      <td>2</td>\n",
              "      <td>1</td>\n",
              "      <td>274</td>\n",
              "      <td>274</td>\n",
              "      <td>274</td>\n",
              "      <td>0</td>\n",
              "      <td>0</td>\n",
              "      <td>1</td>\n",
              "      <td>0</td>\n",
              "    </tr>\n",
              "    <tr>\n",
              "      <th>1</th>\n",
              "      <td>Alipurduar</td>\n",
              "      <td>SDH</td>\n",
              "      <td>2</td>\n",
              "      <td>1</td>\n",
              "      <td>64</td>\n",
              "      <td>64</td>\n",
              "      <td>64</td>\n",
              "      <td>0</td>\n",
              "      <td>1</td>\n",
              "      <td>0</td>\n",
              "      <td>0</td>\n",
              "    </tr>\n",
              "    <tr>\n",
              "      <th>2</th>\n",
              "      <td>Bankura</td>\n",
              "      <td>DH</td>\n",
              "      <td>4</td>\n",
              "      <td>1</td>\n",
              "      <td>302</td>\n",
              "      <td>487</td>\n",
              "      <td>93</td>\n",
              "      <td>0</td>\n",
              "      <td>1</td>\n",
              "      <td>0</td>\n",
              "      <td>2</td>\n",
              "    </tr>\n",
              "    <tr>\n",
              "      <th>3</th>\n",
              "      <td>Bankura</td>\n",
              "      <td>CHC</td>\n",
              "      <td>23</td>\n",
              "      <td>9</td>\n",
              "      <td>179</td>\n",
              "      <td>607</td>\n",
              "      <td>6</td>\n",
              "      <td>2</td>\n",
              "      <td>4</td>\n",
              "      <td>6</td>\n",
              "      <td>2</td>\n",
              "    </tr>\n",
              "    <tr>\n",
              "      <th>4</th>\n",
              "      <td>Birbhum</td>\n",
              "      <td>DH</td>\n",
              "      <td>2</td>\n",
              "      <td>0</td>\n",
              "      <td>561</td>\n",
              "      <td>589</td>\n",
              "      <td>534</td>\n",
              "      <td>0</td>\n",
              "      <td>0</td>\n",
              "      <td>0</td>\n",
              "      <td>2</td>\n",
              "    </tr>\n",
              "  </tbody>\n",
              "</table>\n",
              "</div>"
            ],
            "text/plain": [
              "     District Facility Type  Total No. of Facilities #  \\\n",
              "0  Alipurduar            DH                          2   \n",
              "1  Alipurduar           SDH                          2   \n",
              "2     Bankura            DH                          4   \n",
              "3     Bankura           CHC                         23   \n",
              "4     Birbhum            DH                          2   \n",
              "\n",
              "   No. of facilities reporting nil performance *  \\\n",
              "0                                              1   \n",
              "1                                              1   \n",
              "2                                              1   \n",
              "3                                              9   \n",
              "4                                              0   \n",
              "\n",
              "   Performance - Overall Average **  Performance - Maximum  \\\n",
              "0                               274                    274   \n",
              "1                                64                     64   \n",
              "2                               302                    487   \n",
              "3                               179                    607   \n",
              "4                               561                    589   \n",
              "\n",
              "   Performance - Minimum  No. of facilities by performance - 1 to 30  \\\n",
              "0                    274                                           0   \n",
              "1                     64                                           0   \n",
              "2                     93                                           0   \n",
              "3                      6                                           2   \n",
              "4                    534                                           0   \n",
              "\n",
              "   No. of facilities by performance - 31 to 150  \\\n",
              "0                                             0   \n",
              "1                                             1   \n",
              "2                                             1   \n",
              "3                                             4   \n",
              "4                                             0   \n",
              "\n",
              "   No. of facilities by performance - 151 to 300  \\\n",
              "0                                              1   \n",
              "1                                              0   \n",
              "2                                              0   \n",
              "3                                              6   \n",
              "4                                              0   \n",
              "\n",
              "   No. of facilities by performance - >300  \n",
              "0                                        0  \n",
              "1                                        0  \n",
              "2                                        2  \n",
              "3                                        2  \n",
              "4                                        2  "
            ]
          },
          "metadata": {},
          "execution_count": 4
        }
      ],
      "metadata": {}
    },
    {
      "cell_type": "code",
      "execution_count": 5,
      "source": [
        "dataset_1.tail()"
      ],
      "outputs": [
        {
          "output_type": "execute_result",
          "data": {
            "text/html": [
              "<div>\n",
              "<style scoped>\n",
              "    .dataframe tbody tr th:only-of-type {\n",
              "        vertical-align: middle;\n",
              "    }\n",
              "\n",
              "    .dataframe tbody tr th {\n",
              "        vertical-align: top;\n",
              "    }\n",
              "\n",
              "    .dataframe thead th {\n",
              "        text-align: right;\n",
              "    }\n",
              "</style>\n",
              "<table border=\"1\" class=\"dataframe\">\n",
              "  <thead>\n",
              "    <tr style=\"text-align: right;\">\n",
              "      <th></th>\n",
              "      <th>District</th>\n",
              "      <th>Facility Type</th>\n",
              "      <th>Total No. of Facilities #</th>\n",
              "      <th>No. of facilities reporting nil performance *</th>\n",
              "      <th>Performance - Overall Average **</th>\n",
              "      <th>Performance - Maximum</th>\n",
              "      <th>Performance - Minimum</th>\n",
              "      <th>No. of facilities by performance - 1 to 30</th>\n",
              "      <th>No. of facilities by performance - 31 to 150</th>\n",
              "      <th>No. of facilities by performance - 151 to 300</th>\n",
              "      <th>No. of facilities by performance - &gt;300</th>\n",
              "    </tr>\n",
              "  </thead>\n",
              "  <tbody>\n",
              "    <tr>\n",
              "      <th>69</th>\n",
              "      <td>South Twenty Four Parganas</td>\n",
              "      <td>PHC</td>\n",
              "      <td>79</td>\n",
              "      <td>77</td>\n",
              "      <td>39</td>\n",
              "      <td>58</td>\n",
              "      <td>20</td>\n",
              "      <td>1</td>\n",
              "      <td>1</td>\n",
              "      <td>0</td>\n",
              "      <td>0</td>\n",
              "    </tr>\n",
              "    <tr>\n",
              "      <th>70</th>\n",
              "      <td>Uttar Dinajpur</td>\n",
              "      <td>DH</td>\n",
              "      <td>1</td>\n",
              "      <td>0</td>\n",
              "      <td>805</td>\n",
              "      <td>805</td>\n",
              "      <td>805</td>\n",
              "      <td>0</td>\n",
              "      <td>0</td>\n",
              "      <td>0</td>\n",
              "      <td>1</td>\n",
              "    </tr>\n",
              "    <tr>\n",
              "      <th>71</th>\n",
              "      <td>Uttar Dinajpur</td>\n",
              "      <td>SDH</td>\n",
              "      <td>2</td>\n",
              "      <td>1</td>\n",
              "      <td>1028</td>\n",
              "      <td>1028</td>\n",
              "      <td>1028</td>\n",
              "      <td>0</td>\n",
              "      <td>0</td>\n",
              "      <td>0</td>\n",
              "      <td>1</td>\n",
              "    </tr>\n",
              "    <tr>\n",
              "      <th>72</th>\n",
              "      <td>Uttar Dinajpur</td>\n",
              "      <td>CHC</td>\n",
              "      <td>10</td>\n",
              "      <td>8</td>\n",
              "      <td>82</td>\n",
              "      <td>144</td>\n",
              "      <td>20</td>\n",
              "      <td>1</td>\n",
              "      <td>1</td>\n",
              "      <td>0</td>\n",
              "      <td>0</td>\n",
              "    </tr>\n",
              "    <tr>\n",
              "      <th>73</th>\n",
              "      <td>Uttar Dinajpur</td>\n",
              "      <td>PHC</td>\n",
              "      <td>24</td>\n",
              "      <td>23</td>\n",
              "      <td>46</td>\n",
              "      <td>46</td>\n",
              "      <td>46</td>\n",
              "      <td>0</td>\n",
              "      <td>1</td>\n",
              "      <td>0</td>\n",
              "      <td>0</td>\n",
              "    </tr>\n",
              "  </tbody>\n",
              "</table>\n",
              "</div>"
            ],
            "text/plain": [
              "                      District Facility Type  Total No. of Facilities #  \\\n",
              "69  South Twenty Four Parganas           PHC                         79   \n",
              "70              Uttar Dinajpur            DH                          1   \n",
              "71              Uttar Dinajpur           SDH                          2   \n",
              "72              Uttar Dinajpur           CHC                         10   \n",
              "73              Uttar Dinajpur           PHC                         24   \n",
              "\n",
              "    No. of facilities reporting nil performance *  \\\n",
              "69                                             77   \n",
              "70                                              0   \n",
              "71                                              1   \n",
              "72                                              8   \n",
              "73                                             23   \n",
              "\n",
              "    Performance - Overall Average **  Performance - Maximum  \\\n",
              "69                                39                     58   \n",
              "70                               805                    805   \n",
              "71                              1028                   1028   \n",
              "72                                82                    144   \n",
              "73                                46                     46   \n",
              "\n",
              "    Performance - Minimum  No. of facilities by performance - 1 to 30  \\\n",
              "69                     20                                           1   \n",
              "70                    805                                           0   \n",
              "71                   1028                                           0   \n",
              "72                     20                                           1   \n",
              "73                     46                                           0   \n",
              "\n",
              "    No. of facilities by performance - 31 to 150  \\\n",
              "69                                             1   \n",
              "70                                             0   \n",
              "71                                             0   \n",
              "72                                             1   \n",
              "73                                             1   \n",
              "\n",
              "    No. of facilities by performance - 151 to 300  \\\n",
              "69                                              0   \n",
              "70                                              0   \n",
              "71                                              0   \n",
              "72                                              0   \n",
              "73                                              0   \n",
              "\n",
              "    No. of facilities by performance - >300  \n",
              "69                                        0  \n",
              "70                                        1  \n",
              "71                                        1  \n",
              "72                                        0  \n",
              "73                                        0  "
            ]
          },
          "metadata": {},
          "execution_count": 5
        }
      ],
      "metadata": {}
    },
    {
      "cell_type": "code",
      "execution_count": 7,
      "source": [
        "dataset_1.shape"
      ],
      "outputs": [
        {
          "output_type": "execute_result",
          "data": {
            "text/plain": [
              "(74, 11)"
            ]
          },
          "metadata": {},
          "execution_count": 7
        }
      ],
      "metadata": {}
    },
    {
      "cell_type": "markdown",
      "source": [
        "Hence, we can see that there are 11 columns (features) and 74 rows (observations) in the dataset."
      ],
      "metadata": {}
    },
    {
      "cell_type": "markdown",
      "source": [
        "### DATA TYPES OF VARIABLES IN DATASET"
      ],
      "metadata": {}
    },
    {
      "cell_type": "code",
      "execution_count": 6,
      "source": [
        "dataset_1.dtypes"
      ],
      "outputs": [
        {
          "output_type": "execute_result",
          "data": {
            "text/plain": [
              "District                                         object\n",
              "Facility Type                                    object\n",
              "Total No. of Facilities #                         int64\n",
              "No. of facilities reporting nil performance *     int64\n",
              "Performance - Overall Average **                  int64\n",
              "Performance - Maximum                             int64\n",
              "Performance - Minimum                             int64\n",
              "No. of facilities by performance - 1 to 30        int64\n",
              "No. of facilities by performance - 31 to 150      int64\n",
              "No. of facilities by performance - 151 to 300     int64\n",
              "No. of facilities by performance - >300           int64\n",
              "dtype: object"
            ]
          },
          "metadata": {},
          "execution_count": 6
        }
      ],
      "metadata": {}
    },
    {
      "cell_type": "markdown",
      "source": [
        "<center><H3><b>DATASET 2: LLY</b></H3></center>"
      ],
      "metadata": {}
    },
    {
      "cell_type": "markdown",
      "source": [
        "### READING DATASET"
      ],
      "metadata": {}
    },
    {
      "cell_type": "code",
      "execution_count": 73,
      "source": [
        "dataset_2 = pd.read_csv('LLY.csv')"
      ],
      "outputs": [],
      "metadata": {}
    },
    {
      "cell_type": "markdown",
      "source": [
        "### DISPLAYING DATASET"
      ],
      "metadata": {}
    },
    {
      "cell_type": "code",
      "execution_count": 75,
      "source": [
        "dataset_2.head()"
      ],
      "outputs": [
        {
          "output_type": "execute_result",
          "data": {
            "text/html": [
              "<div>\n",
              "<style scoped>\n",
              "    .dataframe tbody tr th:only-of-type {\n",
              "        vertical-align: middle;\n",
              "    }\n",
              "\n",
              "    .dataframe tbody tr th {\n",
              "        vertical-align: top;\n",
              "    }\n",
              "\n",
              "    .dataframe thead th {\n",
              "        text-align: right;\n",
              "    }\n",
              "</style>\n",
              "<table border=\"1\" class=\"dataframe\">\n",
              "  <thead>\n",
              "    <tr style=\"text-align: right;\">\n",
              "      <th></th>\n",
              "      <th>Date</th>\n",
              "      <th>Open</th>\n",
              "      <th>High</th>\n",
              "      <th>Low</th>\n",
              "      <th>Close</th>\n",
              "      <th>Adj Close</th>\n",
              "      <th>Volume</th>\n",
              "    </tr>\n",
              "  </thead>\n",
              "  <tbody>\n",
              "    <tr>\n",
              "      <th>0</th>\n",
              "      <td>2020-09-04</td>\n",
              "      <td>148.770004</td>\n",
              "      <td>152.580002</td>\n",
              "      <td>147.949997</td>\n",
              "      <td>150.910004</td>\n",
              "      <td>148.377274</td>\n",
              "      <td>4361800</td>\n",
              "    </tr>\n",
              "    <tr>\n",
              "      <th>1</th>\n",
              "      <td>2020-09-08</td>\n",
              "      <td>150.949997</td>\n",
              "      <td>151.309998</td>\n",
              "      <td>148.500000</td>\n",
              "      <td>149.309998</td>\n",
              "      <td>146.804123</td>\n",
              "      <td>4351200</td>\n",
              "    </tr>\n",
              "    <tr>\n",
              "      <th>2</th>\n",
              "      <td>2020-09-09</td>\n",
              "      <td>150.619995</td>\n",
              "      <td>154.119995</td>\n",
              "      <td>150.309998</td>\n",
              "      <td>151.970001</td>\n",
              "      <td>149.419495</td>\n",
              "      <td>2328500</td>\n",
              "    </tr>\n",
              "    <tr>\n",
              "      <th>3</th>\n",
              "      <td>2020-09-10</td>\n",
              "      <td>149.880005</td>\n",
              "      <td>150.600006</td>\n",
              "      <td>145.720001</td>\n",
              "      <td>146.220001</td>\n",
              "      <td>143.765991</td>\n",
              "      <td>3961300</td>\n",
              "    </tr>\n",
              "    <tr>\n",
              "      <th>4</th>\n",
              "      <td>2020-09-11</td>\n",
              "      <td>147.559998</td>\n",
              "      <td>149.190002</td>\n",
              "      <td>146.880005</td>\n",
              "      <td>148.089996</td>\n",
              "      <td>145.604614</td>\n",
              "      <td>3001400</td>\n",
              "    </tr>\n",
              "  </tbody>\n",
              "</table>\n",
              "</div>"
            ],
            "text/plain": [
              "         Date        Open        High         Low       Close   Adj Close  \\\n",
              "0  2020-09-04  148.770004  152.580002  147.949997  150.910004  148.377274   \n",
              "1  2020-09-08  150.949997  151.309998  148.500000  149.309998  146.804123   \n",
              "2  2020-09-09  150.619995  154.119995  150.309998  151.970001  149.419495   \n",
              "3  2020-09-10  149.880005  150.600006  145.720001  146.220001  143.765991   \n",
              "4  2020-09-11  147.559998  149.190002  146.880005  148.089996  145.604614   \n",
              "\n",
              "    Volume  \n",
              "0  4361800  \n",
              "1  4351200  \n",
              "2  2328500  \n",
              "3  3961300  \n",
              "4  3001400  "
            ]
          },
          "metadata": {},
          "execution_count": 75
        }
      ],
      "metadata": {}
    },
    {
      "cell_type": "code",
      "execution_count": 81,
      "source": [
        "dataset_2.tail()"
      ],
      "outputs": [
        {
          "output_type": "execute_result",
          "data": {
            "text/html": [
              "<div>\n",
              "<style scoped>\n",
              "    .dataframe tbody tr th:only-of-type {\n",
              "        vertical-align: middle;\n",
              "    }\n",
              "\n",
              "    .dataframe tbody tr th {\n",
              "        vertical-align: top;\n",
              "    }\n",
              "\n",
              "    .dataframe thead th {\n",
              "        text-align: right;\n",
              "    }\n",
              "</style>\n",
              "<table border=\"1\" class=\"dataframe\">\n",
              "  <thead>\n",
              "    <tr style=\"text-align: right;\">\n",
              "      <th></th>\n",
              "      <th>Date</th>\n",
              "      <th>Open</th>\n",
              "      <th>High</th>\n",
              "      <th>Low</th>\n",
              "      <th>Close</th>\n",
              "      <th>Adj Close</th>\n",
              "      <th>Volume</th>\n",
              "    </tr>\n",
              "  </thead>\n",
              "  <tbody>\n",
              "    <tr>\n",
              "      <th>247</th>\n",
              "      <td>2021-08-30</td>\n",
              "      <td>261.029999</td>\n",
              "      <td>264.070007</td>\n",
              "      <td>259.609985</td>\n",
              "      <td>262.309998</td>\n",
              "      <td>262.309998</td>\n",
              "      <td>1300700</td>\n",
              "    </tr>\n",
              "    <tr>\n",
              "      <th>248</th>\n",
              "      <td>2021-08-31</td>\n",
              "      <td>262.839996</td>\n",
              "      <td>263.640015</td>\n",
              "      <td>257.859985</td>\n",
              "      <td>258.290009</td>\n",
              "      <td>258.290009</td>\n",
              "      <td>2733400</td>\n",
              "    </tr>\n",
              "    <tr>\n",
              "      <th>249</th>\n",
              "      <td>2021-09-01</td>\n",
              "      <td>258.540009</td>\n",
              "      <td>258.769989</td>\n",
              "      <td>254.490005</td>\n",
              "      <td>257.399994</td>\n",
              "      <td>257.399994</td>\n",
              "      <td>2956800</td>\n",
              "    </tr>\n",
              "    <tr>\n",
              "      <th>250</th>\n",
              "      <td>2021-09-02</td>\n",
              "      <td>257.410004</td>\n",
              "      <td>259.730011</td>\n",
              "      <td>256.470001</td>\n",
              "      <td>259.570007</td>\n",
              "      <td>259.570007</td>\n",
              "      <td>1469700</td>\n",
              "    </tr>\n",
              "    <tr>\n",
              "      <th>251</th>\n",
              "      <td>2021-09-03</td>\n",
              "      <td>260.829987</td>\n",
              "      <td>260.989990</td>\n",
              "      <td>256.779999</td>\n",
              "      <td>259.529999</td>\n",
              "      <td>259.529999</td>\n",
              "      <td>1124500</td>\n",
              "    </tr>\n",
              "  </tbody>\n",
              "</table>\n",
              "</div>"
            ],
            "text/plain": [
              "           Date        Open        High         Low       Close   Adj Close  \\\n",
              "247  2021-08-30  261.029999  264.070007  259.609985  262.309998  262.309998   \n",
              "248  2021-08-31  262.839996  263.640015  257.859985  258.290009  258.290009   \n",
              "249  2021-09-01  258.540009  258.769989  254.490005  257.399994  257.399994   \n",
              "250  2021-09-02  257.410004  259.730011  256.470001  259.570007  259.570007   \n",
              "251  2021-09-03  260.829987  260.989990  256.779999  259.529999  259.529999   \n",
              "\n",
              "      Volume  \n",
              "247  1300700  \n",
              "248  2733400  \n",
              "249  2956800  \n",
              "250  1469700  \n",
              "251  1124500  "
            ]
          },
          "metadata": {},
          "execution_count": 81
        }
      ],
      "metadata": {}
    },
    {
      "cell_type": "code",
      "execution_count": 83,
      "source": [
        "dataset_2.shape"
      ],
      "outputs": [
        {
          "output_type": "execute_result",
          "data": {
            "text/plain": [
              "(252, 7)"
            ]
          },
          "metadata": {},
          "execution_count": 83
        }
      ],
      "metadata": {}
    },
    {
      "cell_type": "markdown",
      "source": [
        "Hence, we can see that there are 7 columns (features) and 252 rows (observations) in the dataset."
      ],
      "metadata": {}
    },
    {
      "cell_type": "markdown",
      "source": [
        "### DATA TYPES OF VARIABLES IN DATASET"
      ],
      "metadata": {}
    },
    {
      "cell_type": "code",
      "execution_count": 85,
      "source": [
        "dataset_2.dtypes"
      ],
      "outputs": [
        {
          "output_type": "execute_result",
          "data": {
            "text/plain": [
              "Date          object\n",
              "Open         float64\n",
              "High         float64\n",
              "Low          float64\n",
              "Close        float64\n",
              "Adj Close    float64\n",
              "Volume         int64\n",
              "dtype: object"
            ]
          },
          "metadata": {},
          "execution_count": 85
        }
      ],
      "metadata": {}
    },
    {
      "cell_type": "markdown",
      "source": [
        "<center><H3><b>DATASET 3</b></H3></center>"
      ],
      "metadata": {}
    },
    {
      "cell_type": "markdown",
      "source": [
        "### READING DATASET"
      ],
      "metadata": {}
    },
    {
      "cell_type": "code",
      "execution_count": 122,
      "source": [
        "dataset_3 = pd.read_csv('dataset.csv')"
      ],
      "outputs": [],
      "metadata": {}
    },
    {
      "cell_type": "markdown",
      "source": [
        "### DISPLAYING DATASET"
      ],
      "metadata": {}
    },
    {
      "cell_type": "code",
      "execution_count": 123,
      "source": [
        "dataset_3.head()"
      ],
      "outputs": [
        {
          "output_type": "execute_result",
          "data": {
            "text/html": [
              "<div>\n",
              "<style scoped>\n",
              "    .dataframe tbody tr th:only-of-type {\n",
              "        vertical-align: middle;\n",
              "    }\n",
              "\n",
              "    .dataframe tbody tr th {\n",
              "        vertical-align: top;\n",
              "    }\n",
              "\n",
              "    .dataframe thead th {\n",
              "        text-align: right;\n",
              "    }\n",
              "</style>\n",
              "<table border=\"1\" class=\"dataframe\">\n",
              "  <thead>\n",
              "    <tr style=\"text-align: right;\">\n",
              "      <th></th>\n",
              "      <th>Integer;Categorical;Numerical;Numerical;Categorical;Categorical;Categorical;Categorical;Categorical;Categorical;Categorical;Numerical;Ordinal;Ordinal;Categorical;Categorical;Label 1;Label 2;Label 3;Label 4;Label 5;Label 6;Label 7</th>\n",
              "    </tr>\n",
              "  </thead>\n",
              "  <tbody>\n",
              "    <tr>\n",
              "      <th>0</th>\n",
              "      <td>ID;Motorway;SR;NR;TR;VR;SUR1;SUR2;SUR3;UR;FR;O...</td>\n",
              "    </tr>\n",
              "    <tr>\n",
              "      <th>1</th>\n",
              "      <td>1;A1;600;1;1;4;6;2;10;0;0;50;0;0;0;1;0;0;0;0;0...</td>\n",
              "    </tr>\n",
              "    <tr>\n",
              "      <th>2</th>\n",
              "      <td>2;A1;700;1;5;1;10;6;10;3;1;75;1;1;0;1;0;1;1;0;...</td>\n",
              "    </tr>\n",
              "    <tr>\n",
              "      <th>3</th>\n",
              "      <td>3;A1;200;1;5;1;10;6;10;3;4;75;1;1;0;1;0;1;1;0;...</td>\n",
              "    </tr>\n",
              "    <tr>\n",
              "      <th>4</th>\n",
              "      <td>4;A1;300;1;5;0;6;10;2;3;4;25;0;0;0;1;0;0;1;0;0...</td>\n",
              "    </tr>\n",
              "  </tbody>\n",
              "</table>\n",
              "</div>"
            ],
            "text/plain": [
              "  Integer;Categorical;Numerical;Numerical;Categorical;Categorical;Categorical;Categorical;Categorical;Categorical;Categorical;Numerical;Ordinal;Ordinal;Categorical;Categorical;Label 1;Label 2;Label 3;Label 4;Label 5;Label 6;Label 7\n",
              "0  ID;Motorway;SR;NR;TR;VR;SUR1;SUR2;SUR3;UR;FR;O...                                                                                                                                                                                   \n",
              "1  1;A1;600;1;1;4;6;2;10;0;0;50;0;0;0;1;0;0;0;0;0...                                                                                                                                                                                   \n",
              "2  2;A1;700;1;5;1;10;6;10;3;1;75;1;1;0;1;0;1;1;0;...                                                                                                                                                                                   \n",
              "3  3;A1;200;1;5;1;10;6;10;3;4;75;1;1;0;1;0;1;1;0;...                                                                                                                                                                                   \n",
              "4  4;A1;300;1;5;0;6;10;2;3;4;25;0;0;0;1;0;0;1;0;0...                                                                                                                                                                                   "
            ]
          },
          "metadata": {},
          "execution_count": 123
        }
      ],
      "metadata": {}
    },
    {
      "cell_type": "markdown",
      "source": [
        "Hence, we can see that the dataset in not in the standard format. Hence, we have to convert it to the standard format. Also we can figure out that the features of the dataset are as follows:  \r\n",
        "['ID','Motorway','SR','NR','TR','VR','SUR1','SUR2','SUR3','UR','FR','OR','RR','BR','MR','CR','Green frogs','Brown frogs','Common toad','Fire-bellied toad','Tree frog','Common newt','Great crested newt']"
      ],
      "metadata": {}
    },
    {
      "cell_type": "code",
      "execution_count": 140,
      "source": [
        "dataset_3.shape"
      ],
      "outputs": [
        {
          "output_type": "execute_result",
          "data": {
            "text/plain": [
              "(190, 1)"
            ]
          },
          "metadata": {},
          "execution_count": 140
        }
      ],
      "metadata": {}
    },
    {
      "cell_type": "markdown",
      "source": [
        "From the shape of the dataset, we can figure out that this non standard datset has only one column and it is named as:  \r\n",
        " \"Integer;Categorical;Numerical;Numerical;Categorical;Categorical;Categorical;Categorical;Categorical;Categorical;Categorical;Numerical;Ordinal;Ordinal;Categorical;Categorical;Label 1;Label 2;Label 3;Label 4;Label 5;Label 6;Label 7\""
      ],
      "metadata": {}
    },
    {
      "cell_type": "markdown",
      "source": [
        "### Printing the first two elements of the dataset"
      ],
      "metadata": {}
    },
    {
      "cell_type": "code",
      "execution_count": 142,
      "source": [
        "dataset_3['Integer;Categorical;Numerical;Numerical;Categorical;Categorical;Categorical;Categorical;Categorical;Categorical;Categorical;Numerical;Ordinal;Ordinal;Categorical;Categorical;Label 1;Label 2;Label 3;Label 4;Label 5;Label 6;Label 7'][0:2]"
      ],
      "outputs": [
        {
          "output_type": "execute_result",
          "data": {
            "text/plain": [
              "0    ID;Motorway;SR;NR;TR;VR;SUR1;SUR2;SUR3;UR;FR;O...\n",
              "1    1;A1;600;1;1;4;6;2;10;0;0;50;0;0;0;1;0;0;0;0;0...\n",
              "Name: Integer;Categorical;Numerical;Numerical;Categorical;Categorical;Categorical;Categorical;Categorical;Categorical;Categorical;Numerical;Ordinal;Ordinal;Categorical;Categorical;Label 1;Label 2;Label 3;Label 4;Label 5;Label 6;Label 7, dtype: object"
            ]
          },
          "metadata": {},
          "execution_count": 142
        }
      ],
      "metadata": {}
    },
    {
      "cell_type": "code",
      "execution_count": 128,
      "source": [
        "## Splitting the dataset with ; into columns\r\n",
        "dataset_3 = pd.DataFrame(dataset_3.str.split(' ',';').tolist(),\r\n",
        "                                 columns = ['ID','Motorway','SR','NR','TR','VR','SUR1','SUR2','SUR3','UR','FR','OR','RR','BR','MR','CR','Green frogs','Brown frogs','Common toad','Fire-bellied toad','Tree frog','Common newt','Great crested newt'])"
      ],
      "outputs": [
        {
          "output_type": "error",
          "ename": "AttributeError",
          "evalue": "'DataFrame' object has no attribute 'str'",
          "traceback": [
            "\u001b[1;31m---------------------------------------------------------------------------\u001b[0m",
            "\u001b[1;31mAttributeError\u001b[0m                            Traceback (most recent call last)",
            "\u001b[1;32m~\\AppData\\Local\\Temp/ipykernel_15920/3482821679.py\u001b[0m in \u001b[0;36m<module>\u001b[1;34m\u001b[0m\n\u001b[0;32m      1\u001b[0m \u001b[1;31m## Splitting the dataset with ; into columns\u001b[0m\u001b[1;33m\u001b[0m\u001b[1;33m\u001b[0m\u001b[1;33m\u001b[0m\u001b[0m\n\u001b[1;32m----> 2\u001b[1;33m dataset_3 = pd.DataFrame(dataset_3.str.split(' ',';').tolist(),\n\u001b[0m\u001b[0;32m      3\u001b[0m                                  columns = ['ID','Motorway','SR','NR','TR','VR','SUR1','SUR2','SUR3','UR','FR','OR','RR','BR','MR','CR','Green frogs','Brown frogs','Common toad','Fire-bellied toad','Tree frog','Common newt','Great crested newt'])\n",
            "\u001b[1;32m~\\anaconda3\\lib\\site-packages\\pandas\\core\\generic.py\u001b[0m in \u001b[0;36m__getattr__\u001b[1;34m(self, name)\u001b[0m\n\u001b[0;32m   5463\u001b[0m             \u001b[1;32mif\u001b[0m \u001b[0mself\u001b[0m\u001b[1;33m.\u001b[0m\u001b[0m_info_axis\u001b[0m\u001b[1;33m.\u001b[0m\u001b[0m_can_hold_identifiers_and_holds_name\u001b[0m\u001b[1;33m(\u001b[0m\u001b[0mname\u001b[0m\u001b[1;33m)\u001b[0m\u001b[1;33m:\u001b[0m\u001b[1;33m\u001b[0m\u001b[1;33m\u001b[0m\u001b[0m\n\u001b[0;32m   5464\u001b[0m                 \u001b[1;32mreturn\u001b[0m \u001b[0mself\u001b[0m\u001b[1;33m[\u001b[0m\u001b[0mname\u001b[0m\u001b[1;33m]\u001b[0m\u001b[1;33m\u001b[0m\u001b[1;33m\u001b[0m\u001b[0m\n\u001b[1;32m-> 5465\u001b[1;33m             \u001b[1;32mreturn\u001b[0m \u001b[0mobject\u001b[0m\u001b[1;33m.\u001b[0m\u001b[0m__getattribute__\u001b[0m\u001b[1;33m(\u001b[0m\u001b[0mself\u001b[0m\u001b[1;33m,\u001b[0m \u001b[0mname\u001b[0m\u001b[1;33m)\u001b[0m\u001b[1;33m\u001b[0m\u001b[1;33m\u001b[0m\u001b[0m\n\u001b[0m\u001b[0;32m   5466\u001b[0m \u001b[1;33m\u001b[0m\u001b[0m\n\u001b[0;32m   5467\u001b[0m     \u001b[1;32mdef\u001b[0m \u001b[0m__setattr__\u001b[0m\u001b[1;33m(\u001b[0m\u001b[0mself\u001b[0m\u001b[1;33m,\u001b[0m \u001b[0mname\u001b[0m\u001b[1;33m:\u001b[0m \u001b[0mstr\u001b[0m\u001b[1;33m,\u001b[0m \u001b[0mvalue\u001b[0m\u001b[1;33m)\u001b[0m \u001b[1;33m->\u001b[0m \u001b[1;32mNone\u001b[0m\u001b[1;33m:\u001b[0m\u001b[1;33m\u001b[0m\u001b[1;33m\u001b[0m\u001b[0m\n",
            "\u001b[1;31mAttributeError\u001b[0m: 'DataFrame' object has no attribute 'str'"
          ]
        }
      ],
      "metadata": {}
    },
    {
      "cell_type": "code",
      "execution_count": null,
      "source": [
        "dataset_2.shape"
      ],
      "outputs": [
        {
          "data": {
            "text/plain": [
              "(252, 7)"
            ]
          },
          "metadata": {},
          "output_type": "display_data"
        }
      ],
      "metadata": {}
    },
    {
      "cell_type": "markdown",
      "source": [
        "Hence, we can see that there are 7 columns (features) and 252 rows (observations) in the dataset."
      ],
      "metadata": {}
    },
    {
      "cell_type": "markdown",
      "source": [
        "### DATA TYPES OF VARIABLES IN DATASET"
      ],
      "metadata": {}
    },
    {
      "cell_type": "code",
      "execution_count": null,
      "source": [
        "dataset_2.dtypes"
      ],
      "outputs": [
        {
          "data": {
            "text/plain": [
              "Date          object\n",
              "Open         float64\n",
              "High         float64\n",
              "Low          float64\n",
              "Close        float64\n",
              "Adj Close    float64\n",
              "Volume         int64\n",
              "dtype: object"
            ]
          },
          "metadata": {},
          "output_type": "display_data"
        }
      ],
      "metadata": {}
    }
  ]
}