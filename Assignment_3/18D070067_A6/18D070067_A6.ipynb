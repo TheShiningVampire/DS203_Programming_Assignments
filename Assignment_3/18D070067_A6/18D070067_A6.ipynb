{
 "cells": [
  {
   "cell_type": "markdown",
   "source": [
    "<center><b><H1> DS203 Assignment 6 </H1></b></center>\r\n",
    "<center><b><H2> Name: Vinit Awale </H2></b></center>\r\n",
    "<center><b><H2> Roll No: 18D070067 </H2></b></center>"
   ],
   "metadata": {}
  },
  {
   "cell_type": "code",
   "execution_count": 1,
   "source": [
    "# Imports\r\n",
    "import numpy as np\r\n",
    "import matplotlib.pyplot as plt\r\n",
    "import pandas as pd"
   ],
   "outputs": [],
   "metadata": {}
  },
  {
   "cell_type": "markdown",
   "source": [
    "# EXERCISE 1"
   ],
   "metadata": {}
  },
  {
   "cell_type": "markdown",
   "source": [
    "## Question 2"
   ],
   "metadata": {}
  },
  {
   "cell_type": "code",
   "execution_count": 2,
   "source": [
    "df = pd.read_excel('Real estate valuation data set.xlsx')"
   ],
   "outputs": [],
   "metadata": {}
  },
  {
   "cell_type": "code",
   "execution_count": 3,
   "source": [
    "df.head()"
   ],
   "outputs": [
    {
     "output_type": "execute_result",
     "data": {
      "text/html": [
       "<div>\n",
       "<style scoped>\n",
       "    .dataframe tbody tr th:only-of-type {\n",
       "        vertical-align: middle;\n",
       "    }\n",
       "\n",
       "    .dataframe tbody tr th {\n",
       "        vertical-align: top;\n",
       "    }\n",
       "\n",
       "    .dataframe thead th {\n",
       "        text-align: right;\n",
       "    }\n",
       "</style>\n",
       "<table border=\"1\" class=\"dataframe\">\n",
       "  <thead>\n",
       "    <tr style=\"text-align: right;\">\n",
       "      <th></th>\n",
       "      <th>No</th>\n",
       "      <th>X1 transaction date</th>\n",
       "      <th>X2 house age</th>\n",
       "      <th>X3 distance to the nearest MRT station</th>\n",
       "      <th>X4 number of convenience stores</th>\n",
       "      <th>X5 latitude</th>\n",
       "      <th>X6 longitude</th>\n",
       "      <th>Y house price of unit area</th>\n",
       "    </tr>\n",
       "  </thead>\n",
       "  <tbody>\n",
       "    <tr>\n",
       "      <th>0</th>\n",
       "      <td>1</td>\n",
       "      <td>2012.916667</td>\n",
       "      <td>32.0</td>\n",
       "      <td>84.87882</td>\n",
       "      <td>10</td>\n",
       "      <td>24.98298</td>\n",
       "      <td>121.54024</td>\n",
       "      <td>37.9</td>\n",
       "    </tr>\n",
       "    <tr>\n",
       "      <th>1</th>\n",
       "      <td>2</td>\n",
       "      <td>2012.916667</td>\n",
       "      <td>19.5</td>\n",
       "      <td>306.59470</td>\n",
       "      <td>9</td>\n",
       "      <td>24.98034</td>\n",
       "      <td>121.53951</td>\n",
       "      <td>42.2</td>\n",
       "    </tr>\n",
       "    <tr>\n",
       "      <th>2</th>\n",
       "      <td>3</td>\n",
       "      <td>2013.583333</td>\n",
       "      <td>13.3</td>\n",
       "      <td>561.98450</td>\n",
       "      <td>5</td>\n",
       "      <td>24.98746</td>\n",
       "      <td>121.54391</td>\n",
       "      <td>47.3</td>\n",
       "    </tr>\n",
       "    <tr>\n",
       "      <th>3</th>\n",
       "      <td>4</td>\n",
       "      <td>2013.500000</td>\n",
       "      <td>13.3</td>\n",
       "      <td>561.98450</td>\n",
       "      <td>5</td>\n",
       "      <td>24.98746</td>\n",
       "      <td>121.54391</td>\n",
       "      <td>54.8</td>\n",
       "    </tr>\n",
       "    <tr>\n",
       "      <th>4</th>\n",
       "      <td>5</td>\n",
       "      <td>2012.833333</td>\n",
       "      <td>5.0</td>\n",
       "      <td>390.56840</td>\n",
       "      <td>5</td>\n",
       "      <td>24.97937</td>\n",
       "      <td>121.54245</td>\n",
       "      <td>43.1</td>\n",
       "    </tr>\n",
       "  </tbody>\n",
       "</table>\n",
       "</div>"
      ],
      "text/plain": [
       "   No  X1 transaction date  X2 house age  \\\n",
       "0   1          2012.916667          32.0   \n",
       "1   2          2012.916667          19.5   \n",
       "2   3          2013.583333          13.3   \n",
       "3   4          2013.500000          13.3   \n",
       "4   5          2012.833333           5.0   \n",
       "\n",
       "   X3 distance to the nearest MRT station  X4 number of convenience stores  \\\n",
       "0                                84.87882                               10   \n",
       "1                               306.59470                                9   \n",
       "2                               561.98450                                5   \n",
       "3                               561.98450                                5   \n",
       "4                               390.56840                                5   \n",
       "\n",
       "   X5 latitude  X6 longitude  Y house price of unit area  \n",
       "0     24.98298     121.54024                        37.9  \n",
       "1     24.98034     121.53951                        42.2  \n",
       "2     24.98746     121.54391                        47.3  \n",
       "3     24.98746     121.54391                        54.8  \n",
       "4     24.97937     121.54245                        43.1  "
      ]
     },
     "metadata": {},
     "execution_count": 3
    }
   ],
   "metadata": {}
  },
  {
   "cell_type": "code",
   "execution_count": 4,
   "source": [
    "# Remove the first column from df\r\n",
    "df = df.iloc[:, 1:]"
   ],
   "outputs": [],
   "metadata": {}
  },
  {
   "cell_type": "code",
   "execution_count": 5,
   "source": [
    "df.head()"
   ],
   "outputs": [
    {
     "output_type": "execute_result",
     "data": {
      "text/html": [
       "<div>\n",
       "<style scoped>\n",
       "    .dataframe tbody tr th:only-of-type {\n",
       "        vertical-align: middle;\n",
       "    }\n",
       "\n",
       "    .dataframe tbody tr th {\n",
       "        vertical-align: top;\n",
       "    }\n",
       "\n",
       "    .dataframe thead th {\n",
       "        text-align: right;\n",
       "    }\n",
       "</style>\n",
       "<table border=\"1\" class=\"dataframe\">\n",
       "  <thead>\n",
       "    <tr style=\"text-align: right;\">\n",
       "      <th></th>\n",
       "      <th>X1 transaction date</th>\n",
       "      <th>X2 house age</th>\n",
       "      <th>X3 distance to the nearest MRT station</th>\n",
       "      <th>X4 number of convenience stores</th>\n",
       "      <th>X5 latitude</th>\n",
       "      <th>X6 longitude</th>\n",
       "      <th>Y house price of unit area</th>\n",
       "    </tr>\n",
       "  </thead>\n",
       "  <tbody>\n",
       "    <tr>\n",
       "      <th>0</th>\n",
       "      <td>2012.916667</td>\n",
       "      <td>32.0</td>\n",
       "      <td>84.87882</td>\n",
       "      <td>10</td>\n",
       "      <td>24.98298</td>\n",
       "      <td>121.54024</td>\n",
       "      <td>37.9</td>\n",
       "    </tr>\n",
       "    <tr>\n",
       "      <th>1</th>\n",
       "      <td>2012.916667</td>\n",
       "      <td>19.5</td>\n",
       "      <td>306.59470</td>\n",
       "      <td>9</td>\n",
       "      <td>24.98034</td>\n",
       "      <td>121.53951</td>\n",
       "      <td>42.2</td>\n",
       "    </tr>\n",
       "    <tr>\n",
       "      <th>2</th>\n",
       "      <td>2013.583333</td>\n",
       "      <td>13.3</td>\n",
       "      <td>561.98450</td>\n",
       "      <td>5</td>\n",
       "      <td>24.98746</td>\n",
       "      <td>121.54391</td>\n",
       "      <td>47.3</td>\n",
       "    </tr>\n",
       "    <tr>\n",
       "      <th>3</th>\n",
       "      <td>2013.500000</td>\n",
       "      <td>13.3</td>\n",
       "      <td>561.98450</td>\n",
       "      <td>5</td>\n",
       "      <td>24.98746</td>\n",
       "      <td>121.54391</td>\n",
       "      <td>54.8</td>\n",
       "    </tr>\n",
       "    <tr>\n",
       "      <th>4</th>\n",
       "      <td>2012.833333</td>\n",
       "      <td>5.0</td>\n",
       "      <td>390.56840</td>\n",
       "      <td>5</td>\n",
       "      <td>24.97937</td>\n",
       "      <td>121.54245</td>\n",
       "      <td>43.1</td>\n",
       "    </tr>\n",
       "  </tbody>\n",
       "</table>\n",
       "</div>"
      ],
      "text/plain": [
       "   X1 transaction date  X2 house age  X3 distance to the nearest MRT station  \\\n",
       "0          2012.916667          32.0                                84.87882   \n",
       "1          2012.916667          19.5                               306.59470   \n",
       "2          2013.583333          13.3                               561.98450   \n",
       "3          2013.500000          13.3                               561.98450   \n",
       "4          2012.833333           5.0                               390.56840   \n",
       "\n",
       "   X4 number of convenience stores  X5 latitude  X6 longitude  \\\n",
       "0                               10     24.98298     121.54024   \n",
       "1                                9     24.98034     121.53951   \n",
       "2                                5     24.98746     121.54391   \n",
       "3                                5     24.98746     121.54391   \n",
       "4                                5     24.97937     121.54245   \n",
       "\n",
       "   Y house price of unit area  \n",
       "0                        37.9  \n",
       "1                        42.2  \n",
       "2                        47.3  \n",
       "3                        54.8  \n",
       "4                        43.1  "
      ]
     },
     "metadata": {},
     "execution_count": 5
    }
   ],
   "metadata": {}
  },
  {
   "cell_type": "markdown",
   "source": [
    "## Question 3"
   ],
   "metadata": {}
  },
  {
   "cell_type": "code",
   "execution_count": 6,
   "source": [
    "# Split the dataset into train and test\r\n",
    "from sklearn.model_selection import train_test_split\r\n",
    "df_train, df_test = train_test_split(df, test_size=0.2, random_state=0)"
   ],
   "outputs": [],
   "metadata": {}
  },
  {
   "cell_type": "code",
   "execution_count": 7,
   "source": [
    "# Split the dataset into X and y\r\n",
    "X_train = df_train.iloc[:, :-1].values\r\n",
    "y_train = df_train.iloc[:, -1].values\r\n",
    "X_test = df_test.iloc[:, :-1].values\r\n",
    "y_test = df_test.iloc[:, -1].values"
   ],
   "outputs": [],
   "metadata": {}
  },
  {
   "cell_type": "markdown",
   "source": [
    "## Question 4"
   ],
   "metadata": {}
  },
  {
   "cell_type": "code",
   "execution_count": 8,
   "source": [
    "# Train a linear regression model\r\n",
    "from sklearn.linear_model import LinearRegression\r\n",
    "regressor = LinearRegression()\r\n",
    "regressor.fit(X_train, y_train)"
   ],
   "outputs": [
    {
     "output_type": "execute_result",
     "data": {
      "text/plain": [
       "LinearRegression()"
      ]
     },
     "metadata": {},
     "execution_count": 8
    }
   ],
   "metadata": {}
  },
  {
   "cell_type": "markdown",
   "source": [
    "## Question 5"
   ],
   "metadata": {}
  },
  {
   "cell_type": "code",
   "execution_count": 9,
   "source": [
    "## Reporting the coefficients of the trained model\r\n",
    "print(regressor.coef_)"
   ],
   "outputs": [
    {
     "output_type": "stream",
     "name": "stdout",
     "text": [
      "[ 5.02223987e+00 -2.63131890e-01 -4.46354435e-03  1.09259467e+00\n",
      "  2.25488372e+02 -6.81792744e+00]\n"
     ]
    }
   ],
   "metadata": {}
  },
  {
   "cell_type": "markdown",
   "source": [
    "## Question 6"
   ],
   "metadata": {}
  },
  {
   "cell_type": "code",
   "execution_count": 10,
   "source": [
    "## Make predictions on the test set\r\n",
    "y_pred = regressor.predict(X_test)"
   ],
   "outputs": [],
   "metadata": {}
  },
  {
   "cell_type": "markdown",
   "source": [
    "## Question 7"
   ],
   "metadata": {}
  },
  {
   "cell_type": "code",
   "execution_count": 18,
   "source": [
    "# Compute the mean squared error and the R2 score\r\n",
    "from sklearn.metrics import mean_squared_error, r2_score\r\n",
    "\r\n",
    "print(\"Train_test_split: 80:20\")\r\n",
    "print(\"MSE :\" ,mean_squared_error(y_test, y_pred))\r\n",
    "print(\"R2 Score: \", r2_score(y_test, y_pred))"
   ],
   "outputs": [
    {
     "output_type": "stream",
     "name": "stdout",
     "text": [
      "Train_test_split: 80:20\n",
      "MSE : 52.7799807924661\n",
      "R2 Score:  0.5921381263269844\n"
     ]
    }
   ],
   "metadata": {}
  },
  {
   "cell_type": "markdown",
   "source": [
    "## Question 8"
   ],
   "metadata": {}
  },
  {
   "cell_type": "markdown",
   "source": [
    "Repeating the above parts for the following train-test splits:   \r\n",
    "- train-test split = 0.4\r\n",
    "- train-test split = 0.3\r\n",
    "- train-test split = 0.1\r\n",
    "\r\n"
   ],
   "metadata": {}
  },
  {
   "cell_type": "markdown",
   "source": [
    "### train-test split = 0.4"
   ],
   "metadata": {}
  },
  {
   "cell_type": "code",
   "execution_count": 19,
   "source": [
    "df_train , df_test = train_test_split(df, test_size=0.4, random_state=0)\r\n",
    "\r\n",
    "# Split the dataset into X and y\r\n",
    "X_train = df_train.iloc[:, :-1].values\r\n",
    "y_train = df_train.iloc[:, -1].values\r\n",
    "X_test = df_test.iloc[:, :-1].values\r\n",
    "y_test = df_test.iloc[:, -1].values\r\n",
    "\r\n",
    "# Train a linear regression model\r\n",
    "regressor = LinearRegression()\r\n",
    "regressor.fit(X_train, y_train)\r\n",
    "\r\n",
    "# Make predictions on the test set\r\n",
    "y_pred = regressor.predict(X_test)\r\n",
    "\r\n",
    "# Compute the mean squared error and the R2 score\r\n",
    "print(\"Train_test_split: 70:30\")\r\n",
    "print(\"MSE :\" ,mean_squared_error(y_test, y_pred))\r\n",
    "print(\"R2 Score: \", r2_score(y_test, y_pred))"
   ],
   "outputs": [
    {
     "output_type": "stream",
     "name": "stdout",
     "text": [
      "Train_test_split: 70:30\n",
      "MSE : 67.73912214762815\n",
      "R2 Score:  0.5963978418530073\n"
     ]
    }
   ],
   "metadata": {}
  },
  {
   "cell_type": "markdown",
   "source": [
    "### train-test split = 0.3"
   ],
   "metadata": {}
  },
  {
   "cell_type": "code",
   "execution_count": 20,
   "source": [
    "df_train , df_test = train_test_split(df, test_size=0.3, random_state=0)\r\n",
    "\r\n",
    "# Split the dataset into X and y\r\n",
    "X_train = df_train.iloc[:, :-1].values\r\n",
    "y_train = df_train.iloc[:, -1].values\r\n",
    "X_test = df_test.iloc[:, :-1].values\r\n",
    "y_test = df_test.iloc[:, -1].values\r\n",
    "\r\n",
    "# Train a linear regression model\r\n",
    "regressor = LinearRegression()\r\n",
    "regressor.fit(X_train, y_train)\r\n",
    "\r\n",
    "# Make predictions on the test set\r\n",
    "y_pred = regressor.predict(X_test)\r\n",
    "\r\n",
    "# Compute the mean squared error and the R2 score\r\n",
    "print(\"Train_test_split: 60:40\")\r\n",
    "print(\"MSE :\" ,mean_squared_error(y_test, y_pred))\r\n",
    "print(\"R2 Score: \", r2_score(y_test, y_pred))"
   ],
   "outputs": [
    {
     "output_type": "stream",
     "name": "stdout",
     "text": [
      "Train_test_split: 60:40\n",
      "MSE : 71.57636713662353\n",
      "R2 Score:  0.5800106026205316\n"
     ]
    }
   ],
   "metadata": {}
  },
  {
   "cell_type": "markdown",
   "source": [
    "### train-test split = 0.1"
   ],
   "metadata": {}
  },
  {
   "cell_type": "code",
   "execution_count": 21,
   "source": [
    "df_train , df_test = train_test_split(df, test_size=0.1, random_state=0)\r\n",
    "\r\n",
    "# Split the dataset into X and y\r\n",
    "X_train = df_train.iloc[:, :-1].values\r\n",
    "y_train = df_train.iloc[:, -1].values\r\n",
    "X_test = df_test.iloc[:, :-1].values\r\n",
    "y_test = df_test.iloc[:, -1].values\r\n",
    "\r\n",
    "# Train a linear regression model\r\n",
    "regressor = LinearRegression()\r\n",
    "regressor.fit(X_train, y_train)\r\n",
    "\r\n",
    "# Make predictions on the test set\r\n",
    "y_pred = regressor.predict(X_test)\r\n",
    "\r\n",
    "# Compute the mean squared error and the R2 score\r\n",
    "print(\"Train_test_split: 90:10\")\r\n",
    "print(\"MSE :\" ,mean_squared_error(y_test, y_pred))\r\n",
    "print(\"R2 Score: \", r2_score(y_test, y_pred))"
   ],
   "outputs": [
    {
     "output_type": "stream",
     "name": "stdout",
     "text": [
      "Train_test_split: 90:10\n",
      "MSE : 52.7799807924661\n",
      "R2 Score:  0.5921381263269844\n"
     ]
    }
   ],
   "metadata": {}
  },
  {
   "cell_type": "markdown",
   "source": [
    "## Question 9\r\n",
    "## Using Lasso and Ridge regression using the lambda values as 0.001, 0.005, 0.01, 0.05, 0.1, and 0.5"
   ],
   "metadata": {}
  },
  {
   "cell_type": "markdown",
   "source": [
    "#### LASSO Regression"
   ],
   "metadata": {}
  },
  {
   "cell_type": "code",
   "execution_count": 22,
   "source": [
    "# Using a training set of 80% and a test set of 20% \r\n",
    "# Train a linear regression model with Lasso Regression\r\n",
    "\r\n",
    "lambdas = [0.001, 0.005, 0.01, 0.05, 0.1, 0.5]\r\n",
    "\r\n",
    "\r\n",
    "df_train , df_test = train_test_split(df, test_size=0.2, random_state=0)\r\n",
    "X_train = df_train.iloc[:, :-1].values\r\n",
    "y_train = df_train.iloc[:, -1].values\r\n",
    "X_test = df_test.iloc[:, :-1].values\r\n",
    "y_test = df_test.iloc[:, -1].values\r\n",
    "\r\n",
    "# Import a Lasso Regression model\r\n",
    "from sklearn.linear_model import Lasso\r\n",
    "\r\n",
    "# Train a linear regression model for each lambdas\r\n",
    "for lambda_ in lambdas:\r\n",
    "    regressor = Lasso(alpha=lambda_)\r\n",
    "    regressor.fit(X_train, y_train)\r\n",
    "    y_pred = regressor.predict(X_test)\r\n",
    "    print(\"Lambda: \", lambda_)\r\n",
    "    print(\"MSE :\" ,mean_squared_error(y_test, y_pred))\r\n",
    "    print(\"R2 Score: \", r2_score(y_test, y_pred))\r\n",
    "    print(\"\\n\")\r\n"
   ],
   "outputs": [
    {
     "output_type": "stream",
     "name": "stdout",
     "text": [
      "Lambda:  0.001\n",
      "MSE : 59.56611506860197\n",
      "R2 Score:  0.6570728061861305\n",
      "\n",
      "\n",
      "Lambda:  0.005\n",
      "MSE : 59.74335383113915\n",
      "R2 Score:  0.6560524275463298\n",
      "\n",
      "\n",
      "Lambda:  0.01\n",
      "MSE : 60.232208348465505\n",
      "R2 Score:  0.6532380504862026\n",
      "\n",
      "\n",
      "Lambda:  0.05\n",
      "MSE : 63.134469187702535\n",
      "R2 Score:  0.636529487838308\n",
      "\n",
      "\n",
      "Lambda:  0.1\n",
      "MSE : 63.224173619907354\n",
      "R2 Score:  0.6360130517878246\n",
      "\n",
      "\n",
      "Lambda:  0.5\n",
      "MSE : 65.91449801213228\n",
      "R2 Score:  0.6205246253021932\n",
      "\n",
      "\n"
     ]
    }
   ],
   "metadata": {}
  },
  {
   "cell_type": "markdown",
   "source": [
    "#### RIDGE Regression"
   ],
   "metadata": {}
  },
  {
   "cell_type": "code",
   "execution_count": 23,
   "source": [
    "# Using a training set of 80% and a test set of 20% \r\n",
    "# Train a linear regression model with Lasso Regression\r\n",
    "\r\n",
    "lambdas = [0.001, 0.005, 0.01, 0.05, 0.1, 0.5]\r\n",
    "\r\n",
    "\r\n",
    "df_train , df_test = train_test_split(df, test_size=0.2, random_state=0)\r\n",
    "X_train = df_train.iloc[:, :-1].values\r\n",
    "y_train = df_train.iloc[:, -1].values\r\n",
    "X_test = df_test.iloc[:, :-1].values\r\n",
    "y_test = df_test.iloc[:, -1].values\r\n",
    "\r\n",
    "# Import a ridge regression model\r\n",
    "from sklearn.linear_model import Ridge\r\n",
    "\r\n",
    "# Train a linear regression model for each lambdas\r\n",
    "for lambda_ in lambdas:\r\n",
    "    regressor = Ridge(alpha=lambda_)\r\n",
    "    regressor.fit(X_train, y_train)\r\n",
    "    y_pred = regressor.predict(X_test)\r\n",
    "    print(\"Lambda: \", lambda_)\r\n",
    "    print(\"MSE :\" ,mean_squared_error(y_test, y_pred))\r\n",
    "    print(\"R2 Score: \", r2_score(y_test, y_pred))\r\n",
    "    print(\"\\n\")"
   ],
   "outputs": [
    {
     "output_type": "stream",
     "name": "stdout",
     "text": [
      "Lambda:  0.001\n",
      "MSE : 59.52097175120972\n",
      "R2 Score:  0.6573327001062719\n",
      "\n",
      "\n",
      "Lambda:  0.005\n",
      "MSE : 59.57847897006466\n",
      "R2 Score:  0.6570016261531821\n",
      "\n",
      "\n",
      "Lambda:  0.01\n",
      "MSE : 59.70242510464357\n",
      "R2 Score:  0.656288057707997\n",
      "\n",
      "\n",
      "Lambda:  0.05\n",
      "MSE : 60.76543675414683\n",
      "R2 Score:  0.6501682091743839\n",
      "\n",
      "\n",
      "Lambda:  0.1\n",
      "MSE : 61.48968561782382\n",
      "R2 Score:  0.6459986468291212\n",
      "\n",
      "\n",
      "Lambda:  0.5\n",
      "MSE : 62.651579037130254\n",
      "R2 Score:  0.6393095275314353\n",
      "\n",
      "\n"
     ]
    }
   ],
   "metadata": {}
  },
  {
   "cell_type": "markdown",
   "source": [
    "### Repeating the same for all the train- test splits mentioned earlier"
   ],
   "metadata": {}
  },
  {
   "cell_type": "code",
   "execution_count": 33,
   "source": [
    "split_ = [0.4, 0.3, 0.1]\r\n",
    "lambdas = [0.001, 0.005, 0.01, 0.05, 0.1, 0.5]\r\n",
    "from sklearn.model_selection import train_test_split\r\n",
    "\r\n",
    "for i in range(len(split_)):\r\n",
    "    df_train , df_test = train_test_split(df, test_size=float(split_[i]), random_state=0)\r\n",
    "    X_train = df_train.iloc[:, :-1].values\r\n",
    "    y_train = df_train.iloc[:, -1].values\r\n",
    "    X_test = df_test.iloc[:, :-1].values\r\n",
    "    y_test = df_test.iloc[:, -1].values\r\n",
    "    print(\"Train_test_split: \", split_[i])\r\n",
    "\r\n",
    "    print(\"RIDGE REGRESSION\")\r\n",
    "\r\n",
    "    for lambda_ in lambdas:\r\n",
    "        regressor = Ridge(alpha=lambda_)\r\n",
    "        regressor.fit(X_train, y_train)\r\n",
    "        y_pred = regressor.predict(X_test)\r\n",
    "        print(\"Lambda: \", lambda_)\r\n",
    "        print(\"MSE :\" ,mean_squared_error(y_test, y_pred))\r\n",
    "        print(\"R2 Score: \", r2_score(y_test, y_pred))\r\n",
    "        print(\"\\n\")\r\n",
    "\r\n",
    "    print(\"LASSO REGRESSION\")\r\n",
    "\r\n",
    "    for lambda_ in lambdas:\r\n",
    "        regressor = Lasso(alpha=lambda_)\r\n",
    "        regressor.fit(X_train, y_train)\r\n",
    "        y_pred = regressor.predict(X_test)\r\n",
    "        print(\"Lambda: \", lambda_)\r\n",
    "        print(\"MSE :\" ,mean_squared_error(y_test, y_pred))\r\n",
    "        print(\"R2 Score: \", r2_score(y_test, y_pred))\r\n",
    "        print(\"\\n\")\r\n",
    "\r\n"
   ],
   "outputs": [
    {
     "output_type": "stream",
     "name": "stdout",
     "text": [
      "Train_test_split:  0.4\n",
      "RIDGE REGRESSION\n",
      "Lambda:  0.001\n",
      "MSE : 67.68519729642419\n",
      "R2 Score:  0.5967191360421502\n",
      "\n",
      "\n",
      "Lambda:  0.005\n",
      "MSE : 67.58330024841091\n",
      "R2 Score:  0.5973262574098783\n",
      "\n",
      "\n",
      "Lambda:  0.01\n",
      "MSE : 67.60254382430406\n",
      "R2 Score:  0.5972116006426409\n",
      "\n",
      "\n",
      "Lambda:  0.05\n",
      "MSE : 68.5102217560316\n",
      "R2 Score:  0.591803488453805\n",
      "\n",
      "\n",
      "Lambda:  0.1\n",
      "MSE : 69.1776868834366\n",
      "R2 Score:  0.5878266083678567\n",
      "\n",
      "\n",
      "Lambda:  0.5\n",
      "MSE : 70.17696837935294\n",
      "R2 Score:  0.5818727052825876\n",
      "\n",
      "\n",
      "LASSO REGRESSION\n",
      "Lambda:  0.001\n",
      "MSE : 67.70201607015997\n",
      "R2 Score:  0.5966189266924873\n",
      "\n",
      "\n",
      "Lambda:  0.005\n",
      "MSE : 67.60269617519755\n",
      "R2 Score:  0.597210692907975\n",
      "\n",
      "\n",
      "Lambda:  0.01\n",
      "MSE : 67.7480547340377\n",
      "R2 Score:  0.5963446198590041\n",
      "\n",
      "\n",
      "Lambda:  0.05\n",
      "MSE : 70.51352506958072\n",
      "R2 Score:  0.5798674385739535\n",
      "\n",
      "\n",
      "Lambda:  0.1\n",
      "MSE : 70.49383140937229\n",
      "R2 Score:  0.579984777026386\n",
      "\n",
      "\n",
      "Lambda:  0.5\n",
      "MSE : 72.57954574973373\n",
      "R2 Score:  0.5675577070798132\n",
      "\n",
      "\n",
      "Train_test_split:  0.3\n",
      "RIDGE REGRESSION\n",
      "Lambda:  0.001\n",
      "MSE : 71.56798006421099\n",
      "R2 Score:  0.5800598155329668\n",
      "\n",
      "\n",
      "Lambda:  0.005\n",
      "MSE : 71.60266438572339\n",
      "R2 Score:  0.5798562979771973\n",
      "\n",
      "\n",
      "Lambda:  0.01\n",
      "MSE : 71.73124656545355\n",
      "R2 Score:  0.5791018149775846\n",
      "\n",
      "\n",
      "Lambda:  0.05\n",
      "MSE : 72.94442259295877\n",
      "R2 Score:  0.571983249324\n",
      "\n",
      "\n",
      "Lambda:  0.1\n",
      "MSE : 73.7396491207691\n",
      "R2 Score:  0.5673170903171072\n",
      "\n",
      "\n",
      "Lambda:  0.5\n",
      "MSE : 74.94498771259576\n",
      "R2 Score:  0.5602445124667503\n",
      "\n",
      "\n",
      "LASSO REGRESSION\n",
      "Lambda:  0.001\n",
      "MSE : 71.58812829489112\n",
      "R2 Score:  0.5799415915492675\n",
      "\n",
      "\n",
      "Lambda:  0.005\n",
      "MSE : 71.70217411767905\n",
      "R2 Score:  0.5792724036831814\n",
      "\n",
      "\n",
      "Lambda:  0.01\n",
      "MSE : 72.15616699625191\n",
      "R2 Score:  0.5766085049256149\n",
      "\n",
      "\n",
      "Lambda:  0.05\n",
      "MSE : 75.40099211324512\n",
      "R2 Score:  0.557568810680076\n",
      "\n",
      "\n",
      "Lambda:  0.1\n",
      "MSE : 75.44636734505886\n",
      "R2 Score:  0.5573025619582175\n",
      "\n",
      "\n",
      "Lambda:  0.5\n",
      "MSE : 77.9396336339094\n",
      "R2 Score:  0.5426727973019293\n",
      "\n",
      "\n",
      "Train_test_split:  0.1\n",
      "RIDGE REGRESSION\n",
      "Lambda:  0.001\n",
      "MSE : 52.8189978180053\n",
      "R2 Score:  0.5918366188822557\n",
      "\n",
      "\n",
      "Lambda:  0.005\n",
      "MSE : 52.99977418638194\n",
      "R2 Score:  0.5904396538357579\n",
      "\n",
      "\n",
      "Lambda:  0.01\n",
      "MSE : 53.250304679880564\n",
      "R2 Score:  0.5885036577448848\n",
      "\n",
      "\n",
      "Lambda:  0.05\n",
      "MSE : 54.854257844909505\n",
      "R2 Score:  0.5761089707186657\n",
      "\n",
      "\n",
      "Lambda:  0.1\n",
      "MSE : 55.85541148496585\n",
      "R2 Score:  0.5683724692395629\n",
      "\n",
      "\n",
      "Lambda:  0.5\n",
      "MSE : 57.42752341816405\n",
      "R2 Score:  0.5562238380905826\n",
      "\n",
      "\n",
      "LASSO REGRESSION\n",
      "Lambda:  0.001\n",
      "MSE : 52.85549359460964\n",
      "R2 Score:  0.5915545946070759\n",
      "\n",
      "\n",
      "Lambda:  0.005\n",
      "MSE : 53.36913418862332\n",
      "R2 Score:  0.5875853924223937\n",
      "\n",
      "\n",
      "Lambda:  0.01\n",
      "MSE : 54.29555172133913\n",
      "R2 Score:  0.5804264206868273\n",
      "\n",
      "\n",
      "Lambda:  0.05\n",
      "MSE : 57.84274360016901\n",
      "R2 Score:  0.5530151881654284\n",
      "\n",
      "\n",
      "Lambda:  0.1\n",
      "MSE : 57.66184509835855\n",
      "R2 Score:  0.5544130970086159\n",
      "\n",
      "\n",
      "Lambda:  0.5\n",
      "MSE : 57.96134074407502\n",
      "R2 Score:  0.552098718462342\n",
      "\n",
      "\n"
     ]
    }
   ],
   "metadata": {}
  },
  {
   "cell_type": "markdown",
   "source": [
    "# EXERCISE 2"
   ],
   "metadata": {}
  },
  {
   "cell_type": "markdown",
   "source": [
    "## Question 2"
   ],
   "metadata": {}
  },
  {
   "cell_type": "code",
   "execution_count": 36,
   "source": [
    "df = pd.read_csv('haberman.data', sep=',', header=None)"
   ],
   "outputs": [],
   "metadata": {}
  },
  {
   "cell_type": "code",
   "execution_count": 37,
   "source": [
    "df.head()"
   ],
   "outputs": [
    {
     "output_type": "execute_result",
     "data": {
      "text/html": [
       "<div>\n",
       "<style scoped>\n",
       "    .dataframe tbody tr th:only-of-type {\n",
       "        vertical-align: middle;\n",
       "    }\n",
       "\n",
       "    .dataframe tbody tr th {\n",
       "        vertical-align: top;\n",
       "    }\n",
       "\n",
       "    .dataframe thead th {\n",
       "        text-align: right;\n",
       "    }\n",
       "</style>\n",
       "<table border=\"1\" class=\"dataframe\">\n",
       "  <thead>\n",
       "    <tr style=\"text-align: right;\">\n",
       "      <th></th>\n",
       "      <th>0</th>\n",
       "      <th>1</th>\n",
       "      <th>2</th>\n",
       "      <th>3</th>\n",
       "    </tr>\n",
       "  </thead>\n",
       "  <tbody>\n",
       "    <tr>\n",
       "      <th>0</th>\n",
       "      <td>30</td>\n",
       "      <td>64</td>\n",
       "      <td>1</td>\n",
       "      <td>1</td>\n",
       "    </tr>\n",
       "    <tr>\n",
       "      <th>1</th>\n",
       "      <td>30</td>\n",
       "      <td>62</td>\n",
       "      <td>3</td>\n",
       "      <td>1</td>\n",
       "    </tr>\n",
       "    <tr>\n",
       "      <th>2</th>\n",
       "      <td>30</td>\n",
       "      <td>65</td>\n",
       "      <td>0</td>\n",
       "      <td>1</td>\n",
       "    </tr>\n",
       "    <tr>\n",
       "      <th>3</th>\n",
       "      <td>31</td>\n",
       "      <td>59</td>\n",
       "      <td>2</td>\n",
       "      <td>1</td>\n",
       "    </tr>\n",
       "    <tr>\n",
       "      <th>4</th>\n",
       "      <td>31</td>\n",
       "      <td>65</td>\n",
       "      <td>4</td>\n",
       "      <td>1</td>\n",
       "    </tr>\n",
       "  </tbody>\n",
       "</table>\n",
       "</div>"
      ],
      "text/plain": [
       "    0   1  2  3\n",
       "0  30  64  1  1\n",
       "1  30  62  3  1\n",
       "2  30  65  0  1\n",
       "3  31  59  2  1\n",
       "4  31  65  4  1"
      ]
     },
     "metadata": {},
     "execution_count": 37
    }
   ],
   "metadata": {}
  },
  {
   "cell_type": "markdown",
   "source": [
    "## Question 3"
   ],
   "metadata": {}
  },
  {
   "cell_type": "code",
   "execution_count": 38,
   "source": [
    "# split the dataset in train and test\r\n",
    "from sklearn.model_selection import train_test_split\r\n",
    "\r\n",
    "df_train , df_test = train_test_split(df, test_size=0.2, random_state=0)"
   ],
   "outputs": [],
   "metadata": {}
  },
  {
   "cell_type": "markdown",
   "source": [
    "## Question 4"
   ],
   "metadata": {}
  },
  {
   "cell_type": "code",
   "execution_count": 39,
   "source": [
    "X_train = df_train.iloc[:, :-1].values\r\n",
    "y_train = df_train.iloc[:, -1].values\r\n",
    "X_test = df_test.iloc[:, :-1].values\r\n",
    "y_test = df_test.iloc[:, -1].values"
   ],
   "outputs": [],
   "metadata": {}
  },
  {
   "cell_type": "code",
   "execution_count": 42,
   "source": [
    "# Train a Logistic Regression model\r\n",
    "from sklearn.linear_model import LogisticRegression\r\n",
    "\r\n",
    "Regressor = LogisticRegression()\r\n",
    "Regressor.fit(X_train, y_train)"
   ],
   "outputs": [
    {
     "output_type": "execute_result",
     "data": {
      "text/plain": [
       "LogisticRegression()"
      ]
     },
     "metadata": {},
     "execution_count": 42
    }
   ],
   "metadata": {}
  },
  {
   "cell_type": "markdown",
   "source": [
    "## Question 5"
   ],
   "metadata": {}
  },
  {
   "cell_type": "code",
   "execution_count": 44,
   "source": [
    "## Report the coeffiecients\r\n",
    "print(Regressor.coef_)"
   ],
   "outputs": [
    {
     "output_type": "stream",
     "name": "stdout",
     "text": [
      "[[0.02318509 0.00266963 0.09251148]]\n"
     ]
    }
   ],
   "metadata": {}
  },
  {
   "cell_type": "markdown",
   "source": [
    "## Question 6\r\n"
   ],
   "metadata": {}
  },
  {
   "cell_type": "code",
   "execution_count": 47,
   "source": [
    "# Make predictions on the test set\r\n",
    "y_pred = Regressor.predict(X_test)"
   ],
   "outputs": [],
   "metadata": {}
  },
  {
   "cell_type": "code",
   "execution_count": 48,
   "source": [
    "y_pred"
   ],
   "outputs": [
    {
     "output_type": "execute_result",
     "data": {
      "text/plain": [
       "array([1, 1, 1, 1, 1, 1, 1, 2, 1, 1, 1, 1, 1, 1, 1, 1, 1, 1, 1, 1, 1, 1,\n",
       "       1, 1, 1, 1, 1, 1, 1, 1, 1, 1, 1, 1, 1, 1, 1, 1, 2, 1, 1, 1, 1, 1,\n",
       "       1, 1, 1, 1, 1, 1, 1, 1, 1, 1, 1, 1, 1, 1, 1, 1, 1, 1], dtype=int64)"
      ]
     },
     "metadata": {},
     "execution_count": 48
    }
   ],
   "metadata": {}
  },
  {
   "cell_type": "markdown",
   "source": [
    "## Question 7"
   ],
   "metadata": {}
  },
  {
   "cell_type": "markdown",
   "source": [
    "## Compute the mean number of misclassifications "
   ],
   "metadata": {}
  },
  {
   "cell_type": "code",
   "execution_count": 52,
   "source": [
    "misclassification_count = np.sum(y_test != y_pred)\r\n",
    "\r\n",
    "print(\"Error :\", misclassification_count/len(y_test))"
   ],
   "outputs": [
    {
     "output_type": "stream",
     "name": "stdout",
     "text": [
      "Error : 0.3709677419354839\n"
     ]
    }
   ],
   "metadata": {}
  },
  {
   "cell_type": "markdown",
   "source": [
    "## Question 8"
   ],
   "metadata": {}
  },
  {
   "cell_type": "markdown",
   "source": [
    "### Repeating the same for all the train- test splits mentioned"
   ],
   "metadata": {}
  },
  {
   "cell_type": "code",
   "execution_count": 54,
   "source": [
    "splits = [0.4 , 0.3 , 0.1]\r\n",
    "\r\n",
    "for split in splits:\r\n",
    "    df_train , df_test = train_test_split(df, test_size=float(split), random_state=0)\r\n",
    "    X_train = df_train.iloc[:, :-1].values\r\n",
    "    y_train = df_train.iloc[:, -1].values\r\n",
    "    X_test = df_test.iloc[:, :-1].values\r\n",
    "    y_test = df_test.iloc[:, -1].values\r\n",
    "    print(\"Train_test_split: \", split)\r\n",
    "\r\n",
    "    # Train a Logistic Regression model\r\n",
    "    Regressor = LogisticRegression()\r\n",
    "    Regressor.fit(X_train, y_train)\r\n",
    "    \r\n",
    "    # Make predictions on the test set\r\n",
    "    y_pred = Regressor.predict(X_test)\r\n",
    "    \r\n",
    "    # Report the error\r\n",
    "    misclassification_count = np.sum(y_test != y_pred)\r\n",
    "    print(\"Error :\", misclassification_count/len(y_test))\r\n",
    "    print(\"\\n\")\r\n"
   ],
   "outputs": [
    {
     "output_type": "stream",
     "name": "stdout",
     "text": [
      "Train_test_split:  0.4\n",
      "Error : 0.34959349593495936\n",
      "\n",
      "\n",
      "Train_test_split:  0.3\n",
      "Error : 0.3695652173913043\n",
      "\n",
      "\n",
      "Train_test_split:  0.1\n",
      "Error : 0.3870967741935484\n",
      "\n",
      "\n"
     ]
    }
   ],
   "metadata": {}
  },
  {
   "cell_type": "markdown",
   "source": [
    "### Hence, we can see that as the train-test split increases, the mean number of misclassifications decreases."
   ],
   "metadata": {}
  }
 ],
 "metadata": {
  "orig_nbformat": 4,
  "language_info": {
   "name": "python",
   "version": "3.8.8",
   "mimetype": "text/x-python",
   "codemirror_mode": {
    "name": "ipython",
    "version": 3
   },
   "pygments_lexer": "ipython3",
   "nbconvert_exporter": "python",
   "file_extension": ".py"
  },
  "kernelspec": {
   "name": "python3",
   "display_name": "Python 3.8.8 64-bit ('base': conda)"
  },
  "interpreter": {
   "hash": "c12c9a3ab46614ebb53a25bfb0e0365553fe12c26a768f893745d73ed1857dda"
  }
 },
 "nbformat": 4,
 "nbformat_minor": 2
}